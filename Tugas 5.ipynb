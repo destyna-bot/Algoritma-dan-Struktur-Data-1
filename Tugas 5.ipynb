{
 "cells": [
  {
   "cell_type": "code",
   "execution_count": 3,
   "metadata": {},
   "outputs": [
    {
     "name": "stdout",
     "output_type": "stream",
     "text": [
      "Because I proud to make something new\n",
      "I like Programming\n"
     ]
    }
   ],
   "source": [
    "#fungsi pertama\n",
    "def why():       #non parameter\n",
    "    print(\"Because I proud to make something new\")\n",
    "    \n",
    "#pemanggilan fungsi 1\n",
    "why()\n",
    "\n",
    "#fungsi kedua\n",
    "def hobby():     #non parameter\n",
    "    print(\"I like Programming\")\n",
    "    \n",
    "#pemanggilan fungsi 2\n",
    "hobby()"
   ]
  },
  {
   "cell_type": "code",
   "execution_count": 16,
   "metadata": {},
   "outputs": [
    {
     "name": "stdout",
     "output_type": "stream",
     "text": [
      "nama saya Desty Nurul Anitsa\n",
      "nama saya adalah  Desty Nurul Anitsa\n",
      "Luas persegi panjang adalah 50\n",
      "Luas persegi panjang adalah 5000\n"
     ]
    }
   ],
   "source": [
    "#fungsi pertama input dari keyboard\n",
    "def perkenalan():           #karena input dari keyboard gunakan non parameter\n",
    "    nama =input(\"nama \")\n",
    "    print(\"nama saya adalah \", nama)\n",
    "perkenalan()\n",
    "\n",
    "#fungsi dua parameter\n",
    "def luas_persegi_panjang(panjang,lebar):      #tidak input dari keyboard sehingga menggunakan parameter \n",
    "    luas = panjang*lebar\n",
    "    print(\"Luas persegi panjang adalah\",luas);\n",
    "    \n",
    "luas_persegi_panjang(5,10)\n",
    "luas_persegi_panjang(100,50)"
   ]
  },
  {
   "cell_type": "code",
   "execution_count": 8,
   "metadata": {},
   "outputs": [
    {
     "name": "stdout",
     "output_type": "stream",
     "text": [
      "nilai p = 20\n",
      "nilai l = 30\n",
      "nilai t = 40\n",
      "Jadi luas persegi panjang adalah 600\n",
      "Jadi volume balok tersebut 24000\n"
     ]
    }
   ],
   "source": [
    "#fungsi return\n",
    "#inputkan masing-masing nilainya dari keyboard\n",
    "p = int(input(\"nilai p = \"))\n",
    "l = int(input(\"nilai l = \"))\n",
    "t = int(input(\"nilai t = \"))\n",
    "\n",
    "#fungsi return pertama berisi luas persegi panjang \n",
    "def l_p_panjang():               #karena menggunakan input dari keyboard sehingga menggunakan non parameter \n",
    "    luas = p*l\n",
    "    return luas\n",
    "\n",
    "print(\"Jadi luas persegi panjang adalah\", l_p_panjang())\n",
    "        \n",
    "#fungsi return volume balok\n",
    "def v_balok():                  #karena menggunakan input dari keyboard sehingga menggunakan non parameter\n",
    "    volume = l_p_panjang()*t    #dapat didingkat dengan menggunakan fungsi l_p_panjang() karena memiliki rumus yang sama, sehingga lebih mudah untuk menyingkatnya\n",
    "    return volume \n",
    "\n",
    "print(\"Jadi volume balok tersebut\", v_balok())"
   ]
  },
  {
   "cell_type": "code",
   "execution_count": 10,
   "metadata": {},
   "outputs": [
    {
     "name": "stdout",
     "output_type": "stream",
     "text": [
      "angka pertama = 10\n",
      "angka kedua = 11\n",
      "Apakah a sama dengan b? False\n",
      "Apakah angka pertama lebih besar dari angka kedua? False\n"
     ]
    }
   ],
   "source": [
    "#FUNGSI, INPUT, dan OPERATOR\n",
    "#buat program dengan input angka pertama dan angka kedua\n",
    "\n",
    "a = input(\"angka pertama = \")\n",
    "b = input(\"angka kedua = \")\n",
    "\n",
    "#Apakah angka pertama sama dengan (==) angka kedua?\n",
    "def sama_dengan():\n",
    "    c = a == b \n",
    "    return c\n",
    "\n",
    "print(\"Apakah a sama dengan b?\", sama_dengan())\n",
    "\n",
    "#apakah angka pertama lebih besar (>) dari angka kedua?\n",
    "def lebih_besar():\n",
    "    c = a > b \n",
    "    return c\n",
    "\n",
    "print(\"Apakah angka pertama lebih besar dari angka kedua?\", lebih_besar())"
   ]
  }
 ],
 "metadata": {
  "kernelspec": {
   "display_name": "Python 3",
   "language": "python",
   "name": "python3"
  },
  "language_info": {
   "codemirror_mode": {
    "name": "ipython",
    "version": 3
   },
   "file_extension": ".py",
   "mimetype": "text/x-python",
   "name": "python",
   "nbconvert_exporter": "python",
   "pygments_lexer": "ipython3",
   "version": "3.8.3"
  }
 },
 "nbformat": 4,
 "nbformat_minor": 4
}
