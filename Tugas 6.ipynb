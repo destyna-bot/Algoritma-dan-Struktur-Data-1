{
 "cells": [
  {
   "cell_type": "code",
   "execution_count": 9,
   "metadata": {},
   "outputs": [
    {
     "name": "stdout",
     "output_type": "stream",
     "text": [
      "Berapakah nilai kamu?68\n",
      "kamu harus ikut remidi\n"
     ]
    }
   ],
   "source": [
    "nilai = int(input(\"Berapakah nilai kamu?\"))\n",
    "if nilai < 70:\n",
    "    print(\"kamu harus ikut remidi\")"
   ]
  },
  {
   "cell_type": "code",
   "execution_count": 10,
   "metadata": {},
   "outputs": [
    {
     "name": "stdout",
     "output_type": "stream",
     "text": [
      "Berapakah nilai kamu?90\n"
     ]
    }
   ],
   "source": [
    "nilai = int(input(\"Berapakah nilai kamu?\"))\n",
    "if nilai < 70:\n",
    "    print(\"kamu harus ikut remidi\")"
   ]
  },
  {
   "cell_type": "code",
   "execution_count": 8,
   "metadata": {},
   "outputs": [
    {
     "name": "stdout",
     "output_type": "stream",
     "text": [
      "Masukkan jari-jari 7\n",
      "Luas Lingkaran adalah 153\n",
      "Lingkaran ini kecil\n"
     ]
    }
   ],
   "source": [
    "#if else\n",
    "r = int(input(\"Masukkan jari-jari\"))\n",
    "L = 3.14*r*r\n",
    "print(\"Luas Lingkaran adalah\", int(L))\n",
    "\n",
    "if L >= 314:\n",
    "    print(\"Lingkaran ini besar\")\n",
    "else:\n",
    "    print(\"Lingkaran ini kecil\")"
   ]
  },
  {
   "cell_type": "code",
   "execution_count": 9,
   "metadata": {},
   "outputs": [
    {
     "name": "stdout",
     "output_type": "stream",
     "text": [
      "Masukkan jari-jari 28\n",
      "Luas Lingkaran adalah 2461\n",
      "Lingkaran ini besar\n"
     ]
    }
   ],
   "source": [
    "#if else\n",
    "r = int(input(\"Masukkan jari-jari\"))\n",
    "L = 3.14*r*r\n",
    "print(\"Luas Lingkaran adalah\", int(L))\n",
    "\n",
    "if L >= 314:\n",
    "    print(\"Lingkaran ini besar\")\n",
    "else:\n",
    "    print(\"Lingkaran ini kecil\")"
   ]
  },
  {
   "cell_type": "code",
   "execution_count": 12,
   "metadata": {},
   "outputs": [
    {
     "name": "stdout",
     "output_type": "stream",
     "text": [
      "Masukkan nomor program1\n",
      "Masukkan panjang 10\n",
      "Masukkan lebar 12\n",
      "Masukkan tinggi 13\n",
      "volume balok adalah =  1560\n"
     ]
    }
   ],
   "source": [
    "#elif\n",
    "\n",
    "def V_balok():\n",
    "    p = int(input(\"Masukkan panjang \"))\n",
    "    l = int(input(\"Masukkan lebar \"))\n",
    "    t = int(input(\"Masukkan tinggi \"))\n",
    "    V_balok = p*l*t\n",
    "    print(\"volume balok adalah = \", V_balok)\n",
    "def V_kubus():\n",
    "    s = int(input(\"Masukkan s\"))\n",
    "    V_kubus = s*s*s\n",
    "    print(\"volume kubus adalah = \", V_kubus)\n",
    "\n",
    "program = int(input(\"Masukkan nomor program\"))\n",
    "\n",
    "if program == 1: \n",
    "    V_balok()\n",
    "elif program == 2:\n",
    "    V_kubus()\n",
    "else: \n",
    "    print(\"program tidak tersedia\")\n",
    "\n"
   ]
  }
 ],
 "metadata": {
  "kernelspec": {
   "display_name": "Python 3",
   "language": "python",
   "name": "python3"
  },
  "language_info": {
   "codemirror_mode": {
    "name": "ipython",
    "version": 3
   },
   "file_extension": ".py",
   "mimetype": "text/x-python",
   "name": "python",
   "nbconvert_exporter": "python",
   "pygments_lexer": "ipython3",
   "version": "3.8.3"
  }
 },
 "nbformat": 4,
 "nbformat_minor": 4
}
